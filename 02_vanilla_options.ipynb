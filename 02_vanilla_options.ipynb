{
 "cells": [
  {
   "cell_type": "markdown",
   "id": "00cb3a32",
   "metadata": {},
   "source": [
    "# European options\n",
    "A European call/put option is a contract between two parties, a buyer and a seller, giving the buyer the right but not obligation to buy/sell some underlying asset $S$ from/to the seller at a predetermined price $K$ (strike price) at a given time in the future $t$.\n",
    "\n",
    "If $s_t$ is the value of the stock at time $t$, then the value of the call option at time $t$ is \n",
    "$$\n",
    "C_t = \\max(s_t - K, 0).\n",
    "$$\n",
    "Hence, the fair market value of the option at time 0 is \n",
    "$$\n",
    "C_0 = e^{-rt} \\mathbb{E}[\\max(S_t - K, 0)],\n",
    "$$\n",
    "where $S_t$ is the distribution of the stock value at time $t$, and $r$ is the interest rate.\n",
    "\n",
    ">**Note.** By call-put parity, under the risk-free assumption one has\n",
    ">$$\n",
    ">C_0 - P_0 = S_0 - e^{-rt}K.\n",
    ">$$\n",
    ">Hence, we will just focus on call options.\n"
   ]
  },
  {
   "cell_type": "markdown",
   "id": "1a5329c6",
   "metadata": {},
   "source": [
    "### Black-Scholes analytic formulas\n",
    "By some relatively simple probability arguments, one can prove that the fair price of a European option is given by the following formulas.\n",
    "\n",
    "Let $\\varphi(x) = \\frac{1}{\\sqrt{2\\pi}} e^{\\frac{x^2}{2}}$ be the PDF of the normal distribution, and $\\Phi(x) = \\int_{-\\infty}^x \\varphi(t) dt$ be its CDF.\n",
    "\n",
    ">**Theorem.** (**call/put formulas**) Let $S_t$ be GBM-distributed, $K$ be the strike price of a call/put option expiring at time $t$.  Denote by \n",
    ">$$\n",
    ">d_1 = \\frac{\\ln\\frac{S_0}{K} + (r + \\frac{\\sigma^2}{2})t}{\\sigma \\sqrt{t}}, \\qquad\n",
    ">d_2 = d_1 - \\sigma\\sqrt{t} = \\frac{\\ln\\frac{S_0}{K} + (r - \\frac{\\sigma^2}{2})t}{\\sigma \\sqrt{t}}.\n",
    ">$$\n",
    ">Then\n",
    ">$$\n",
    ">C_0 = e^{-rt} \\mathbb{E}[\\max(S_t - K, 0)] = S_0 \\Phi(d_1) - e^{-rt} K \\Phi(d_2)\n",
    ">$$\n",
    ">and\n",
    ">$$\n",
    ">\\mathbb{P}[S_t - K > 0] = \\mathbb{P}[\\text{call has value at time } t] = \\Phi(d_2).\n",
    ">$$\n",
    ">Similarly,\n",
    ">$$\n",
    ">P_0 = e^{-rt} \\mathbb{E}[\\max(K - S_t, 0)] = -S_0 \\Phi(-d_1) + e^{-rt} K \\Phi(-d_2),\n",
    ">$$\n",
    ">and\n",
    ">$$\n",
    ">\\mathbb{P}[K - S_t > 0] = \\mathbb{P}[\\text{put has value at time } t] = \\Phi(-d_2).\n",
    ">$$\n",
    "\n",
    "##### Implementation\n",
    "We implement the Black-Scholes pricer by the following code.  Again, the same code is available in `utils.py` and will be sourced from there for cross-notebook consistency.\n",
    "\n",
    "```python\n",
    "def bs_price(S0, K, sigma, t, r, option_type='call'):\n",
    "    '''\n",
    "    Black-Scholes Call Option formula\n",
    "\n",
    "    Inputs:\n",
    "    S0 (float): Stock price at time 0\n",
    "    K (float): Strike Price\n",
    "    sigma: Yearly volatility\n",
    "    t: Time to expiration (years)\n",
    "    r: Risk-free Interest rate\n",
    "\n",
    "\n",
    "    Return:\n",
    "    Black-Scholes value of call/put option (float)\n",
    "    '''\n",
    "\n",
    "    d1 = (np.log(S0/K) + (r + (0.5)*sigma**2)*t)/(sigma*np.sqrt(t))\n",
    "    d2 = d1 - sigma*np.sqrt(t)\n",
    "    \n",
    "    if option_type == 'put':\n",
    "        return -S0*norm.cdf(-d1) + K*np.exp(-r*t)*norm.cdf(-d2)\n",
    "    elif option_type == 'call':\n",
    "        return S0*norm.cdf(d1) - K*np.exp(-r*t)*norm.cdf(d2)\n",
    "    else:\n",
    "        raise ValueError(\"Unrecognized option type: {}\".format(option_type))\n",
    "```"
   ]
  },
  {
   "cell_type": "markdown",
   "id": "b8685317",
   "metadata": {},
   "source": [
    "### Monte-Carlo pricing\n",
    "European options under the GBM assumption have a nice closed-form formula for pricing, as explained in the previous section.  The fair price of the majority of financial instruments, however, cannot be determined analytically.  In such cases, a very powerful solution is to simulate different stock paths and use them to determine statistically the fair price of the derivative.  To illustrate the process, we first implement it for European options.  A naive implementation is as follows:\n",
    "- we simulate `n_sims` GBM paths (with one step, since the only thing that matters for the moment is the final price);\n",
    "- we take the terminal prices;\n",
    "- depending on the type of option, we compute the payoff as $\\max(S_t - K, 0)$ (call) or $\\max(K - S_t, 0)$ (put);\n",
    "- we compute the discounted payoffs at time 0;\n",
    "- we return mean and standard deviation of the discounted payoffs."
   ]
  },
  {
   "cell_type": "code",
   "execution_count": null,
   "id": "8f91c545",
   "metadata": {},
   "outputs": [],
   "source": [
    "from utils import GBM_paths\n",
    "\n",
    "import numpy as np\n",
    "import matplotlib.pyplot as plt\n",
    "import seaborn as sns\n",
    "\n",
    "sns.set_style(\"darkgrid\")\n",
    "\n",
    "\n",
    "def monte_carlo_european(S0, K, sigma, t, r, mu, n_sims, option_type=\"call\"):\n",
    "    \"\"\"\n",
    "    S0 (float): Underlying stock price at time 0\n",
    "    sigma (float): Yearly volatility\n",
    "    t (float): Time to expiration (years)\n",
    "    r (float): Risk-free interest rate\n",
    "    mu (float): Drift of log-returns\n",
    "    n_sims (int): Number of simulated paths\n",
    "\n",
    "    Returns:\n",
    "    Estimated option price (float), standard deviation (float)\n",
    "    \"\"\"\n",
    "    paths = GBM_paths(S0, sigma, t, r, mu, n_sims, n_steps=1)\n",
    "    S_t = paths[:, -1]  # Terminal prices\n",
    "\n",
    "    if option_type == \"call\":\n",
    "        payoffs = np.maximum(S_t - K, 0)\n",
    "    elif option_type == \"put\":\n",
    "        payoffs = np.maximum(K - S_t, 0)\n",
    "    else:\n",
    "        raise ValueError(\"Unrecognized option type: {}\".format(option_type))\n",
    "\n",
    "    discounted_payoff = np.exp(-r * t) * payoffs\n",
    "\n",
    "    return np.mean(discounted_payoff), np.std(discounted_payoff) / np.sqrt(n_sims)"
   ]
  },
  {
   "cell_type": "markdown",
   "id": "f750d921",
   "metadata": {},
   "source": [
    "We can then compare the Monte-Carlo simulation of a European call option with the Black-Scholes solution, depending on the number of simulations.  We use the following starting data:\n",
    "- starting price $S_0 = 100$\n",
    "- interest rate $r = 4.25%$\n",
    "- time horizon $t = 1$ year\n",
    "- strike price $K = S_0 e^{rt} \\sim 104.3$\n",
    "- volatility $\\sigma = 0.43$\n",
    "- no drift ($\\mu = 0$)"
   ]
  },
  {
   "cell_type": "code",
   "execution_count": null,
   "id": "43034a5d",
   "metadata": {},
   "outputs": [
    {
     "name": "stdout",
     "output_type": "stream",
     "text": [
      "Black-Scholes computed value: $17.02\n",
      "Estimated call value with 10 simulations: $12.63 with standard error 6.45766\n",
      "Estimated call value with 100 simulations: $23.46 with standard error 4.67723\n",
      "Estimated call value with 1000 simulations: $16.34 with standard error 0.96753\n",
      "Estimated call value with 10000 simulations: $16.87 with standard error 0.32340\n",
      "Estimated call value with 100000 simulations: $17.01 with standard error 0.10212\n",
      "Estimated call value with 1000000 simulations: $17.08 with standard error 0.03273\n",
      "Estimated call value with 10000000 simulations: $17.02 with standard error 0.01032\n"
     ]
    }
   ],
   "source": [
    "from utils import bs_price\n",
    "\n",
    "simulations = [10, 100, 1_000, 10_000, 100_000, 1_000_000, 10_000_000]\n",
    "\n",
    "S0 = 100\n",
    "r = 0.0425\n",
    "t = 1\n",
    "K = S0 * np.exp(r * t)\n",
    "sigma = 0.43\n",
    "mu = 0\n",
    "\n",
    "analytic_price = bs_price(S0, K, sigma, t, r)\n",
    "print(f\"Black-Scholes computed value: ${analytic_price:.2f}\")\n",
    "\n",
    "for n_sims in simulations:\n",
    "    call_value, std_err = monte_carlo_european(S0, K, sigma, t, r, mu, n_sims)\n",
    "    print(\n",
    "        f\"Estimated call value with {n_sims} simulations: ${call_value:.2f} with standard error \\\n",
    "{std_err:.5f}\"\n",
    "    )"
   ]
  },
  {
   "cell_type": "markdown",
   "id": "c0d49c33",
   "metadata": {},
   "source": [
    "As one can see, the fair price estimated by Monte-Carlo methods converges to the Black-Scholes price as the number of simulations increases, and starts to be rather accurate already with about 100,000 simulations."
   ]
  },
  {
   "cell_type": "markdown",
   "id": "d14d7d63",
   "metadata": {},
   "source": [
    "### Hedged Monte-Carlo pricing\n",
    "Taking the market-maker's point of view, we can examine the profit distribution of selling 1 call option.  We assume a premium given by the Black-Scholes formula with slightly higher variance."
   ]
  },
  {
   "cell_type": "code",
   "execution_count": null,
   "id": "83802538",
   "metadata": {},
   "outputs": [
    {
     "data": {
      "image/png": "[encoded data removed]",
      "text/plain": [
       "<Figure size 1000x800 with 1 Axes>"
      ]
     },
     "metadata": {},
     "output_type": "display_data"
    },
    {
     "name": "stdout",
     "output_type": "stream",
     "text": [
      "Black-Scholes expected profit: $1.94\n"
     ]
    }
   ],
   "source": [
    "S0 = 100\n",
    "r = 0.0425\n",
    "t = 1\n",
    "K = S0 * np.exp(r * t)\n",
    "sigma = 0.43\n",
    "mu = 0\n",
    "\n",
    "premium = bs_price(S0, K, sigma + 0.05, t, r)\n",
    "\n",
    "stock_paths = GBM_paths(S0, sigma, t, r, mu, n_sims=100_000, n_steps=1)\n",
    "call_values_discounted = np.exp(-r * t) * np.maximum(stock_paths[:, -1] - K, 0)\n",
    "profits = premium - call_values_discounted\n",
    "\n",
    "profit_estimate = np.mean(profits)\n",
    "profit_max = np.max(profits)\n",
    "profit_min = np.min(profits)\n",
    "\n",
    "plt.figure(figsize=(10, 8))\n",
    "plt.hist(profits, bins=100, alpha=0.5)\n",
    "plt.title(f\"Histogram of P&L of selling call options\")\n",
    "plt.axvline(\n",
    "    profit_estimate, color=\"red\", label=f\"Average profit ${profit_estimate:.2f}\"\n",
    ")\n",
    "plt.axvline(profit_max, color=\"black\", label=f\"Max Profit: ${profit_max:.2f}\")\n",
    "plt.axvline(profit_min, color=\"purple\", label=f\"Max Loss: ${profit_min:.2f}\")\n",
    "plt.legend()\n",
    "plt.show()\n",
    "\n",
    "bs_profit = premium - bs_price(S0, K, sigma, t, r)\n",
    "print(f\"Black-Scholes expected profit: ${bs_profit:.2f}\")"
   ]
  },
  {
   "cell_type": "markdown",
   "id": "24d02879",
   "metadata": {},
   "source": [
    "As one can see, even though the Black-Scholes formula correctly estimates the average profit, one can nonetheless incur in huge losses.  To prevent this the portfolio is hedged by buying and selling the underlying asset.\n",
    "\n",
    "In this notebook, we will do delta-hedging.  To keep things realistic, we will do a daily hedge (and maybe introduce transaction costs)."
   ]
  },
  {
   "cell_type": "markdown",
   "id": "8b7f3bf0",
   "metadata": {},
   "source": [
    "##### $\\Delta$ and delta-hedging\n",
    "Let $C_0$ be the fair price of a European call option, as given by Black-Scholes. We define $\\Delta_{C_0}$ as the derivative of $C_0$ with respect to the price $S_0$ of the underlying asset: $\\Delta_{C_0} = \\frac{\\partial C_0}{\\partial S_0}$.  One computes that $\\Delta_{C_0} = \\Phi(d_1)$.\n",
    "\n",
    "Consider then a portfolio that buys $\\Delta_{C_0}$ shares of stocks and sells one call option, so that the portfolio at time 0 (without including the premium) has value, according to Black-Scholes, $\\Delta_{C_0} S_0 - C_0$.  Then the portfolio delta is $\\Delta_{C_0} - \\Delta_{C_0} = 0$, and the overall value of the portfolio remains unchanged by instantaneous variations of the value of the stock (\"delta-neutral\").\n",
    "\n",
    "In simulations, we split $[0, t]$ into regular intervals, with $t_n = t$, $t_0 = 0$.  Let $C_{t_i}$ be the B-S price of the option at time $t_i$, and $\\Delta_{C_{t_i}} = \\frac{\\partial C_{t_i}}{\\partial S_{t_i}}$.  We readjust the portfolio to delta-neutral at each time $t_i$, i.e. to have $\\Delta_{C_{t_i}}$ shares of stock.\n",
    "\n",
    "The expected profit at time 0 of one share of stock from time $t_i$ to time $t_{i+1}$ is\n",
    "$$\n",
    "\\left(S_{t_{i+1}} - e^{r(t_{i+1} - t_i)} S_{t_i} \\right) e^{-r t_{i+1}}\n",
    "$$\n",
    "(the exponent outside of the parentheses is the discount to time 0, the one inside is the forward price from time $t_i$ to time $t_{i+1}$).  Thus the total stock profits by holding $\\Delta_{C_{t_i}}$ shares at each interval of time is\n",
    "$$\n",
    "\\sum_{i=0}^{n-1} \\left(S_{t_{i+1}} - e^{r(t_{i+1} - t_i)} S_{t_i} \\right) e^{-r t_{i+1}} \\Delta_{C_{t_i}}.\n",
    "$$\n",
    "If $N$ options are sold for a premium $P$ each, then the profit/loss of the hedged portfolio is\n",
    "$$\n",
    "N(P - \\max(S_t - K, 0) e^{-rt} + \\text{stock profit}).\n",
    "$$\n",
    "The expected profit under the risk-free GBM assumption is then\n",
    "$$\n",
    "P - C_0 + 0,\n",
    "$$\n",
    "because each stock profit is expected to be 0 on each interval under the risk-free assumption, so the expected profit isn't influenced by delta-hedging.  However, it affects profit distribution, making extreme losses less likely.\n",
    "\n",
    "In fact, continuous delta-hedging also removes the effect of any drift term $\\mu$, making the option's actual value to be close to the B-S fair price.  Increasing the frequency of hedging makes the value closer to B-S.  This means that the profit from a hedging portfolio will be close to the option B-S value, avoiding big payouts."
   ]
  },
  {
   "cell_type": "code",
   "execution_count": null,
   "id": "ea9ec37f",
   "metadata": {},
   "outputs": [],
   "source": [
    "# TODO: delta-hedging for European stocks\n",
    "#! Wednesday\n",
    "# - different hedging frequencies\n",
    "# - introduce a transaction cost\n",
    "# - look at the notebook for Lecture 8\n",
    "\n",
    "#! Thursday\n",
    "# - implement a Monte-Carlo simulation for Asian options\n",
    "# - explore basic delta-hedging for Asian options\n",
    "\n",
    "#! Friday\n",
    "# - compare to market data"
   ]
  }
 ],
 "metadata": {
  "kernelspec": {
   "display_name": ".venv",
   "language": "python",
   "name": "python3"
  },
  "language_info": {
   "codemirror_mode": {
    "name": "ipython",
    "version": 3
   },
   "file_extension": ".py",
   "mimetype": "text/x-python",
   "name": "python",
   "nbconvert_exporter": "python",
   "pygments_lexer": "ipython3",
   "version": "3.12.3"
  }
 },
 "nbformat": 4,
 "nbformat_minor": 5
}
